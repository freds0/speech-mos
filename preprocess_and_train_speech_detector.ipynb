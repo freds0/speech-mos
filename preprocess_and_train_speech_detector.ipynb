{
 "cells": [
  {
   "cell_type": "code",
   "execution_count": 14,
   "metadata": {
    "collapsed": true
   },
   "outputs": [],
   "source": [
    "import os\n",
    "import re\n",
    "import glob\n",
    "import numpy as np\n",
    "import pickle\n",
    "import cv2\n",
    "from matplotlib import pyplot as plt\n",
    "from keras.applications.vgg16 import VGG16\n",
    "from keras.preprocessing import image\n",
    "from keras.applications.vgg16 import preprocess_input\n",
    "from keras.layers import Input, Flatten, Dense, Dropout\n",
    "from keras.models import Model\n",
    "from keras import metrics\n",
    "import numpy as np\n",
    "import os, glob, cv2\n",
    "from scipy.ndimage import imread\n",
    "from sklearn.model_selection import train_test_split\n",
    "import h5py"
   ]
  },
  {
   "cell_type": "code",
   "execution_count": 2,
   "metadata": {
    "collapsed": true,
    "scrolled": true
   },
   "outputs": [],
   "source": [
    "files = glob.glob('/data/run*-sample*-score*.pkl')\n",
    "X = []\n",
    "y = []\n",
    "for elem in files:\n",
    "    attrs = elem.split('/')[2].split('.')[0].split('-')\n",
    "    attrs = [re.findall(r'\\d+', x) for x in attrs]\n",
    "    try:\n",
    "        success = True\n",
    "        this_y = [int(x[0]) for x in attrs][2]\n",
    "    except IndexError:\n",
    "        success = False\n",
    "    if success:\n",
    "        f = open(elem, 'rb')\n",
    "        # unpickling py2 data into py3 requires latin1 encoding\n",
    "        this_X = pickle.load(f, encoding='latin1')\n",
    "        f.close()\n",
    "        if this_X.shape == (129, 223):\n",
    "            this_X = cv2.copyMakeBorder(this_X, 0, 95, 1, 0, cv2.BORDER_CONSTANT,value=0)\n",
    "            this_X = cv2.cvtColor(this_X,cv2.COLOR_GRAY2RGB)\n",
    "            X.append(this_X)\n",
    "            y.append(this_y)\n",
    "\n",
    "X = np.stack(X)\n",
    "y = np.array(y)"
   ]
  },
  {
   "cell_type": "code",
   "execution_count": 3,
   "metadata": {
    "scrolled": true
   },
   "outputs": [
    {
     "name": "stdout",
     "output_type": "stream",
     "text": [
      "(array([0, 1, 2, 3, 4, 5]), array([519, 102, 109, 149, 190, 168]))\n",
      "519 718\n"
     ]
    }
   ],
   "source": [
    "print(np.unique(y, return_counts=True))\n",
    "print(np.unique(y, return_counts=True)[1][0], np.sum(np.unique(y, return_counts=True)[1][1:]))"
   ]
  },
  {
   "cell_type": "code",
   "execution_count": 4,
   "metadata": {
    "collapsed": true
   },
   "outputs": [],
   "source": [
    "binary_y = []\n",
    "for elem in y:\n",
    "    if elem == 0:\n",
    "        binary_y.append([1, 0])\n",
    "    else:\n",
    "        binary_y.append([0, 1])\n",
    "binary_y = np.stack(binary_y)"
   ]
  },
  {
   "cell_type": "code",
   "execution_count": 5,
   "metadata": {
    "collapsed": true
   },
   "outputs": [],
   "source": [
    "X_train, X_test, binary_y_train, binary_y_test = train_test_split(X, binary_y)"
   ]
  },
  {
   "cell_type": "code",
   "execution_count": 6,
   "metadata": {},
   "outputs": [
    {
     "data": {
      "text/plain": [
       "((927, 224, 224, 3), (310, 224, 224, 3), (927, 2), (310, 2))"
      ]
     },
     "execution_count": 6,
     "metadata": {},
     "output_type": "execute_result"
    }
   ],
   "source": [
    "X_train.shape, X_test.shape, binary_y_train.shape, binary_y_test.shape"
   ]
  },
  {
   "cell_type": "code",
   "execution_count": 7,
   "metadata": {},
   "outputs": [
    {
     "name": "stdout",
     "output_type": "stream",
     "text": [
      "_________________________________________________________________\n",
      "Layer (type)                 Output Shape              Param #   \n",
      "=================================================================\n",
      "input_1 (InputLayer)         (None, None, None, 3)     0         \n",
      "_________________________________________________________________\n",
      "block1_conv1 (Conv2D)        (None, None, None, 64)    1792      \n",
      "_________________________________________________________________\n",
      "block1_conv2 (Conv2D)        (None, None, None, 64)    36928     \n",
      "_________________________________________________________________\n",
      "block1_pool (MaxPooling2D)   (None, None, None, 64)    0         \n",
      "_________________________________________________________________\n",
      "block2_conv1 (Conv2D)        (None, None, None, 128)   73856     \n",
      "_________________________________________________________________\n",
      "block2_conv2 (Conv2D)        (None, None, None, 128)   147584    \n",
      "_________________________________________________________________\n",
      "block2_pool (MaxPooling2D)   (None, None, None, 128)   0         \n",
      "_________________________________________________________________\n",
      "block3_conv1 (Conv2D)        (None, None, None, 256)   295168    \n",
      "_________________________________________________________________\n",
      "block3_conv2 (Conv2D)        (None, None, None, 256)   590080    \n",
      "_________________________________________________________________\n",
      "block3_conv3 (Conv2D)        (None, None, None, 256)   590080    \n",
      "_________________________________________________________________\n",
      "block3_pool (MaxPooling2D)   (None, None, None, 256)   0         \n",
      "_________________________________________________________________\n",
      "block4_conv1 (Conv2D)        (None, None, None, 512)   1180160   \n",
      "_________________________________________________________________\n",
      "block4_conv2 (Conv2D)        (None, None, None, 512)   2359808   \n",
      "_________________________________________________________________\n",
      "block4_conv3 (Conv2D)        (None, None, None, 512)   2359808   \n",
      "_________________________________________________________________\n",
      "block4_pool (MaxPooling2D)   (None, None, None, 512)   0         \n",
      "_________________________________________________________________\n",
      "block5_conv1 (Conv2D)        (None, None, None, 512)   2359808   \n",
      "_________________________________________________________________\n",
      "block5_conv2 (Conv2D)        (None, None, None, 512)   2359808   \n",
      "_________________________________________________________________\n",
      "block5_conv3 (Conv2D)        (None, None, None, 512)   2359808   \n",
      "_________________________________________________________________\n",
      "block5_pool (MaxPooling2D)   (None, None, None, 512)   0         \n",
      "=================================================================\n",
      "Total params: 14,714,688\n",
      "Trainable params: 14,714,688\n",
      "Non-trainable params: 0\n",
      "_________________________________________________________________\n"
     ]
    }
   ],
   "source": [
    "model_vgg16_conv = VGG16(weights='imagenet', include_top=False)\n",
    "model_vgg16_conv.summary()\n",
    "for layer in model_vgg16_conv.layers:\n",
    "    layer.trainable = False"
   ]
  },
  {
   "cell_type": "code",
   "execution_count": 15,
   "metadata": {},
   "outputs": [
    {
     "name": "stderr",
     "output_type": "stream",
     "text": [
      "/usr/local/lib/python3.5/site-packages/ipykernel_launcher.py:9: UserWarning: Update your `Model` call to the Keras 2 API: `Model(inputs=Tensor(\"im..., outputs=Tensor(\"pr...)`\n",
      "  if __name__ == '__main__':\n"
     ]
    },
    {
     "name": "stdout",
     "output_type": "stream",
     "text": [
      "_________________________________________________________________\n",
      "Layer (type)                 Output Shape              Param #   \n",
      "=================================================================\n",
      "image_input (InputLayer)     (None, 224, 224, 3)       0         \n",
      "_________________________________________________________________\n",
      "vgg16 (Model)                multiple                  14714688  \n",
      "_________________________________________________________________\n",
      "flatten (Flatten)            (None, 25088)             0         \n",
      "_________________________________________________________________\n",
      "fc (Dense)                   (None, 20)                501780    \n",
      "_________________________________________________________________\n",
      "dropout_1 (Dropout)          (None, 20)                0         \n",
      "_________________________________________________________________\n",
      "predictions (Dense)          (None, 2)                 42        \n",
      "=================================================================\n",
      "Total params: 15,216,510\n",
      "Trainable params: 501,822\n",
      "Non-trainable params: 14,714,688\n",
      "_________________________________________________________________\n",
      "Epoch 1/50\n",
      "927/927 [==============================] - 15s - loss: 0.8923 - acc: 0.7843    \n",
      "Epoch 2/50\n",
      "927/927 [==============================] - 15s - loss: 0.5284 - acc: 0.8781    \n",
      "Epoch 3/50\n",
      "927/927 [==============================] - 15s - loss: 0.4583 - acc: 0.8576    \n",
      "Epoch 4/50\n",
      "927/927 [==============================] - 15s - loss: 0.4300 - acc: 0.8943    \n",
      "Epoch 5/50\n",
      "927/927 [==============================] - 15s - loss: 0.4022 - acc: 0.8673    \n",
      "Epoch 6/50\n",
      "927/927 [==============================] - 15s - loss: 0.3510 - acc: 0.8932    \n",
      "Epoch 7/50\n",
      "927/927 [==============================] - 15s - loss: 0.3403 - acc: 0.9137    \n",
      "Epoch 8/50\n",
      "927/927 [==============================] - 15s - loss: 0.3440 - acc: 0.8975    \n",
      "Epoch 9/50\n",
      "927/927 [==============================] - 15s - loss: 0.3173 - acc: 0.9018    \n",
      "Epoch 10/50\n",
      "927/927 [==============================] - 15s - loss: 0.3141 - acc: 0.9083    \n",
      "Epoch 11/50\n",
      "927/927 [==============================] - 15s - loss: 0.2982 - acc: 0.9234    \n",
      "Epoch 12/50\n",
      "927/927 [==============================] - 15s - loss: 0.2857 - acc: 0.9191    \n",
      "Epoch 13/50\n",
      "927/927 [==============================] - 15s - loss: 0.2653 - acc: 0.9342    \n",
      "Epoch 14/50\n",
      "927/927 [==============================] - 15s - loss: 0.2562 - acc: 0.9364    \n",
      "Epoch 15/50\n",
      "927/927 [==============================] - 15s - loss: 0.2473 - acc: 0.9428    \n",
      "Epoch 16/50\n",
      "927/927 [==============================] - 15s - loss: 0.2337 - acc: 0.9493    \n",
      "Epoch 17/50\n",
      "927/927 [==============================] - 18s - loss: 0.2300 - acc: 0.9482    \n",
      "Epoch 18/50\n",
      "927/927 [==============================] - 17s - loss: 0.2205 - acc: 0.9558    \n",
      "Epoch 19/50\n",
      "927/927 [==============================] - 15s - loss: 0.2233 - acc: 0.9450    \n",
      "Epoch 20/50\n",
      "927/927 [==============================] - 15s - loss: 0.2234 - acc: 0.9504    \n",
      "Epoch 21/50\n",
      "927/927 [==============================] - 15s - loss: 0.2326 - acc: 0.9342    \n",
      "Epoch 22/50\n",
      "927/927 [==============================] - 15s - loss: 0.1893 - acc: 0.9666    \n",
      "Epoch 23/50\n",
      "927/927 [==============================] - 15s - loss: 0.1972 - acc: 0.9547    \n",
      "Epoch 24/50\n",
      "927/927 [==============================] - 15s - loss: 0.2044 - acc: 0.9493    \n",
      "Epoch 25/50\n",
      "927/927 [==============================] - 15s - loss: 0.2015 - acc: 0.9493    \n",
      "Epoch 26/50\n",
      "927/927 [==============================] - 15s - loss: 0.1858 - acc: 0.9579    \n",
      "Epoch 27/50\n",
      "927/927 [==============================] - 15s - loss: 0.1795 - acc: 0.9579    \n",
      "Epoch 28/50\n",
      "927/927 [==============================] - 15s - loss: 0.1854 - acc: 0.9547    \n",
      "Epoch 29/50\n",
      "927/927 [==============================] - 15s - loss: 0.1959 - acc: 0.9590    \n",
      "Epoch 30/50\n",
      "927/927 [==============================] - 15s - loss: 0.1778 - acc: 0.9644    \n",
      "Epoch 31/50\n",
      "927/927 [==============================] - 15s - loss: 0.2299 - acc: 0.9417    \n",
      "Epoch 32/50\n",
      "927/927 [==============================] - 15s - loss: 0.1897 - acc: 0.9525    \n",
      "Epoch 33/50\n",
      "927/927 [==============================] - 15s - loss: 0.1854 - acc: 0.9493    \n",
      "Epoch 34/50\n",
      "927/927 [==============================] - 15s - loss: 0.2100 - acc: 0.9331    \n",
      "Epoch 35/50\n",
      "927/927 [==============================] - 15s - loss: 0.1927 - acc: 0.9407    \n",
      "Epoch 36/50\n",
      "927/927 [==============================] - 15s - loss: 0.1635 - acc: 0.9622    \n",
      "Epoch 37/50\n",
      "927/927 [==============================] - 15s - loss: 0.1678 - acc: 0.9558    \n",
      "Epoch 38/50\n",
      "927/927 [==============================] - 15s - loss: 0.1597 - acc: 0.9601    \n",
      "Epoch 39/50\n",
      "927/927 [==============================] - 15s - loss: 0.1528 - acc: 0.9601    \n",
      "Epoch 40/50\n",
      "927/927 [==============================] - 15s - loss: 0.1520 - acc: 0.9633    \n",
      "Epoch 41/50\n",
      "927/927 [==============================] - 15s - loss: 0.1635 - acc: 0.9558    \n",
      "Epoch 42/50\n",
      "927/927 [==============================] - 15s - loss: 0.1636 - acc: 0.9525    \n",
      "Epoch 43/50\n",
      "927/927 [==============================] - 15s - loss: 0.1441 - acc: 0.9633    \n",
      "Epoch 44/50\n",
      "927/927 [==============================] - 15s - loss: 0.1429 - acc: 0.9622    \n",
      "Epoch 45/50\n",
      "927/927 [==============================] - 15s - loss: 0.1448 - acc: 0.9622    \n",
      "Epoch 46/50\n",
      "927/927 [==============================] - 15s - loss: 0.1308 - acc: 0.9687    \n",
      "Epoch 47/50\n",
      "927/927 [==============================] - 15s - loss: 0.1421 - acc: 0.9590    \n",
      "Epoch 48/50\n",
      "927/927 [==============================] - 15s - loss: 0.1516 - acc: 0.9601    \n",
      "Epoch 49/50\n",
      "927/927 [==============================] - 15s - loss: 0.1382 - acc: 0.9590    \n",
      "Epoch 50/50\n",
      "927/927 [==============================] - 15s - loss: 0.1315 - acc: 0.9676    \n"
     ]
    },
    {
     "data": {
      "text/plain": [
       "<keras.callbacks.History at 0x7fa29428c0b8>"
      ]
     },
     "execution_count": 15,
     "metadata": {},
     "output_type": "execute_result"
    }
   ],
   "source": [
    "input = Input(shape=(224,224,3),name = 'image_input')\n",
    "output_vgg16_conv = model_vgg16_conv(input)\n",
    "\n",
    "#Add the fully-connected layers \n",
    "x = Flatten(name='flatten')(output_vgg16_conv)\n",
    "x = Dense(20, activation='relu', name='fc')(x)\n",
    "x = Dropout(0.2)(x)\n",
    "x = Dense(2, activation='softmax', name='predictions')(x)\n",
    "model = Model(input=input, output=x)\n",
    "\n",
    "#In the summary, weights and layers from VGG part will be hidden, but they will be fit during the training\n",
    "model.summary()\n",
    "model.compile(optimizer='adam', loss='categorical_crossentropy', metrics=['accuracy'])\n",
    "\n",
    "model.fit(X_train, binary_y_train, epochs=50)"
   ]
  },
  {
   "cell_type": "code",
   "execution_count": 16,
   "metadata": {
    "collapsed": true
   },
   "outputs": [],
   "source": [
    "model.save('speech-detection-v3.h5')"
   ]
  },
  {
   "cell_type": "code",
   "execution_count": 17,
   "metadata": {
    "collapsed": true
   },
   "outputs": [],
   "source": [
    "binary_y_pred = [np.argmax(elem) for elem in model.predict(X_test)]\n",
    "binary_y_true = [np.argmax(elem) for elem in binary_y_test]"
   ]
  },
  {
   "cell_type": "code",
   "execution_count": 18,
   "metadata": {
    "collapsed": true
   },
   "outputs": [],
   "source": [
    "is_accurate = [binary_y_pred[i] == binary_y_true[i] for i in range(len(binary_y_pred))]"
   ]
  },
  {
   "cell_type": "code",
   "execution_count": 19,
   "metadata": {
    "scrolled": true
   },
   "outputs": [
    {
     "data": {
      "text/plain": [
       "(array([False,  True], dtype=bool), array([ 26, 284]))"
      ]
     },
     "execution_count": 19,
     "metadata": {},
     "output_type": "execute_result"
    }
   ],
   "source": [
    "np.unique(is_accurate, return_counts=True)"
   ]
  }
 ],
 "metadata": {
  "kernelspec": {
   "display_name": "Python 2",
   "language": "python",
   "name": "python2"
  },
  "language_info": {
   "codemirror_mode": {
    "name": "ipython",
    "version": 2
   },
   "file_extension": ".py",
   "mimetype": "text/x-python",
   "name": "python",
   "nbconvert_exporter": "python",
   "pygments_lexer": "ipython2",
   "version": "2.7.14"
  }
 },
 "nbformat": 4,
 "nbformat_minor": 2
}
