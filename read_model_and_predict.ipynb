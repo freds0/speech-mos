{
 "cells": [
  {
   "cell_type": "code",
   "execution_count": 1,
   "metadata": {},
   "outputs": [
    {
     "name": "stderr",
     "output_type": "stream",
     "text": [
      "Using TensorFlow backend.\n"
     ]
    }
   ],
   "source": [
    "import numpy as np\n",
    "import h5py\n",
    "from keras.applications.vgg16 import VGG16\n",
    "from keras.preprocessing import image\n",
    "from keras.applications.vgg16 import preprocess_input\n",
    "from keras.layers import Input, Flatten, Dense\n",
    "from keras.models import Model\n",
    "import numpy as np\n",
    "import os, glob, cv2\n",
    "from scipy.ndimage import imread\n",
    "from sklearn.model_selection import train_test_split\n",
    "from sklearn import metrics\n",
    "np.set_printoptions(precision=3)"
   ]
  },
  {
   "cell_type": "code",
   "execution_count": 2,
   "metadata": {},
   "outputs": [
    {
     "name": "stdout",
     "output_type": "stream",
     "text": [
      "mens\n",
      "womens\n"
     ]
    }
   ],
   "source": [
    "directory_parent = '/Users/jeff/Desktop/CS156/5.1/'\n",
    "folders = ['mens', 'womens']\n",
    "\n",
    "data_X = []\n",
    "data_y = []\n",
    "\n",
    "for i in range(len(folders)):\n",
    "    print folders[i]\n",
    "    folder_name = folders[i]\n",
    "    directory = directory_parent + folder_name + '/'\n",
    "    images_arr = []\n",
    "    for filename in os.listdir(directory):\n",
    "        if 'resized_224' in filename:\n",
    "            img = image.load_img(directory + filename)\n",
    "            x = image.img_to_array(img)\n",
    "            x = preprocess_input(x)\n",
    "            data_X.append(x)\n",
    "            y = np.zeros(2)\n",
    "            y[i] = 1\n",
    "            data_y.append(y)\n",
    "            \n",
    "data_X = np.stack(data_X, axis=0)\n",
    "data_y = np.stack(data_y, axis=0)\n",
    "\n",
    "X_train, X_test, y_train, y_test = train_test_split(data_X, data_y, test_size=0.2)"
   ]
  },
  {
   "cell_type": "code",
   "execution_count": 3,
   "metadata": {
    "collapsed": true
   },
   "outputs": [],
   "source": [
    "from keras.models import load_model\n",
    "model = load_model('mens-womens-fashion-classifier.h5')"
   ]
  },
  {
   "cell_type": "code",
   "execution_count": 4,
   "metadata": {
    "collapsed": true
   },
   "outputs": [],
   "source": [
    "manual_test_files = ['suit.png', 'women-cashmere.png', 'yqf.png', 'jigglypuff.png', 'qiusu.png', 'qiusu.']\n",
    "manual_test_X = []\n",
    "for filename in manual_test_files:\n",
    "    img = image.load_img(filename, target_size=(224,224,3))\n",
    "    x = image.img_to_array(img)\n",
    "    x = preprocess_input(x)\n",
    "    manual_test_X.append(x)\n",
    "manual_test_X = np.stack(manual_test_X, axis=0)"
   ]
  },
  {
   "cell_type": "code",
   "execution_count": 5,
   "metadata": {},
   "outputs": [
    {
     "data": {
      "text/plain": [
       "array([[  1.000e+00,   6.352e-16],\n",
       "       [  6.804e-04,   9.993e-01],\n",
       "       [  9.996e-01,   3.867e-04],\n",
       "       [  1.404e-06,   1.000e+00],\n",
       "       [  2.715e-02,   9.728e-01]], dtype=float32)"
      ]
     },
     "execution_count": 5,
     "metadata": {},
     "output_type": "execute_result"
    }
   ],
   "source": [
    "model.predict(manual_test_X)"
   ]
  },
  {
   "cell_type": "code",
   "execution_count": null,
   "metadata": {
    "collapsed": true
   },
   "outputs": [],
   "source": []
  }
 ],
 "metadata": {
  "kernelspec": {
   "display_name": "Python 2",
   "language": "python",
   "name": "python2"
  },
  "language_info": {
   "codemirror_mode": {
    "name": "ipython",
    "version": 2
   },
   "file_extension": ".py",
   "mimetype": "text/x-python",
   "name": "python",
   "nbconvert_exporter": "python",
   "pygments_lexer": "ipython2",
   "version": "2.7.13"
  }
 },
 "nbformat": 4,
 "nbformat_minor": 2
}
