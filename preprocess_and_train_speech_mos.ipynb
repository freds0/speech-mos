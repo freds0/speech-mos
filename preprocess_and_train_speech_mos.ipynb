{
 "cells": [
  {
   "cell_type": "code",
   "execution_count": 85,
   "metadata": {
    "collapsed": true
   },
   "outputs": [],
   "source": [
    "import os\n",
    "import re\n",
    "import glob\n",
    "import numpy as np\n",
    "import pickle\n",
    "import cv2\n",
    "from matplotlib import pyplot as plt\n",
    "from keras.applications.vgg16 import VGG16\n",
    "from keras.preprocessing import image\n",
    "from keras.applications.vgg16 import preprocess_input\n",
    "from keras.layers import Input, Flatten, Dense, Dropout\n",
    "from keras.models import Model, load_model\n",
    "from keras import metrics\n",
    "import numpy as np\n",
    "import os, glob, cv2\n",
    "from scipy.ndimage import imread\n",
    "from sklearn.model_selection import train_test_split\n",
    "import h5py"
   ]
  },
  {
   "cell_type": "code",
   "execution_count": 11,
   "metadata": {
    "collapsed": true,
    "scrolled": true
   },
   "outputs": [],
   "source": [
    "files = glob.glob('/data/run*-sample*-score*.pkl')\n",
    "X = []\n",
    "y = []\n",
    "for elem in files:\n",
    "    attrs = elem.split('/')[2].split('.')[0].split('-')\n",
    "    attrs = [re.findall(r'\\d+', x) for x in attrs]\n",
    "    try:\n",
    "        success = True\n",
    "        this_y = [int(x[0]) for x in attrs][2]\n",
    "    except IndexError:\n",
    "        success = False\n",
    "    if success:\n",
    "        f = open(elem, 'rb')\n",
    "        # unpickling py2 data into py3 requires latin1 encoding\n",
    "        this_X = pickle.load(f, encoding='latin1')\n",
    "        f.close()\n",
    "        if this_X.shape == (129, 223):\n",
    "            this_X = cv2.copyMakeBorder(this_X, 0, 95, 1, 0, cv2.BORDER_CONSTANT,value=0)\n",
    "            this_X = cv2.cvtColor(this_X,cv2.COLOR_GRAY2RGB)\n",
    "            X.append(this_X)\n",
    "            y.append(this_y)\n",
    "\n",
    "X = np.stack(X)\n",
    "y = np.array(y)"
   ]
  },
  {
   "cell_type": "code",
   "execution_count": 12,
   "metadata": {},
   "outputs": [
    {
     "name": "stdout",
     "output_type": "stream",
     "text": [
      "(array([0, 1, 2, 3, 4, 5]), array([519, 102, 109, 149, 190, 168]))\n",
      "519 718\n"
     ]
    }
   ],
   "source": [
    "print(np.unique(y, return_counts=True))\n",
    "print(np.unique(y, return_counts=True)[1][0], np.sum(np.unique(y, return_counts=True)[1][1:]))"
   ]
  },
  {
   "cell_type": "code",
   "execution_count": 117,
   "metadata": {
    "collapsed": true
   },
   "outputs": [],
   "source": [
    "speech_X = []\n",
    "speech_y = []\n",
    "\n",
    "for i in range(len(y)):\n",
    "    if y[i] != 0:\n",
    "        speech_X.append(X[i])\n",
    "        speech_y.append(y[i])\n",
    "speech_X = np.stack(speech_X)\n",
    "speech_y = np.stack(speech_y).reshape(-1, 1)\n",
    "speech_y_scaled = (speech_y - 1)/4"
   ]
  },
  {
   "cell_type": "code",
   "execution_count": 118,
   "metadata": {
    "collapsed": true
   },
   "outputs": [],
   "source": [
    "speech_X_train, speech_X_test, speech_y_train, speech_y_test = train_test_split(speech_X, speech_y_scaled)"
   ]
  },
  {
   "cell_type": "code",
   "execution_count": 119,
   "metadata": {},
   "outputs": [
    {
     "data": {
      "text/plain": [
       "((538, 224, 224, 3), (180, 224, 224, 3), (538, 1), (180, 1))"
      ]
     },
     "execution_count": 119,
     "metadata": {},
     "output_type": "execute_result"
    }
   ],
   "source": [
    "speech_X_train.shape, speech_X_test.shape, speech_y_train.shape, speech_y_test.shape"
   ]
  },
  {
   "cell_type": "code",
   "execution_count": 139,
   "metadata": {},
   "outputs": [
    {
     "name": "stdout",
     "output_type": "stream",
     "text": [
      "_________________________________________________________________\n",
      "Layer (type)                 Output Shape              Param #   \n",
      "=================================================================\n",
      "input_17 (InputLayer)        (None, None, None, 3)     0         \n",
      "_________________________________________________________________\n",
      "block1_conv1 (Conv2D)        (None, None, None, 64)    1792      \n",
      "_________________________________________________________________\n",
      "block1_conv2 (Conv2D)        (None, None, None, 64)    36928     \n",
      "_________________________________________________________________\n",
      "block1_pool (MaxPooling2D)   (None, None, None, 64)    0         \n",
      "_________________________________________________________________\n",
      "block2_conv1 (Conv2D)        (None, None, None, 128)   73856     \n",
      "_________________________________________________________________\n",
      "block2_conv2 (Conv2D)        (None, None, None, 128)   147584    \n",
      "_________________________________________________________________\n",
      "block2_pool (MaxPooling2D)   (None, None, None, 128)   0         \n",
      "_________________________________________________________________\n",
      "block3_conv1 (Conv2D)        (None, None, None, 256)   295168    \n",
      "_________________________________________________________________\n",
      "block3_conv2 (Conv2D)        (None, None, None, 256)   590080    \n",
      "_________________________________________________________________\n",
      "block3_conv3 (Conv2D)        (None, None, None, 256)   590080    \n",
      "_________________________________________________________________\n",
      "block3_pool (MaxPooling2D)   (None, None, None, 256)   0         \n",
      "_________________________________________________________________\n",
      "block4_conv1 (Conv2D)        (None, None, None, 512)   1180160   \n",
      "_________________________________________________________________\n",
      "block4_conv2 (Conv2D)        (None, None, None, 512)   2359808   \n",
      "_________________________________________________________________\n",
      "block4_conv3 (Conv2D)        (None, None, None, 512)   2359808   \n",
      "_________________________________________________________________\n",
      "block4_pool (MaxPooling2D)   (None, None, None, 512)   0         \n",
      "_________________________________________________________________\n",
      "block5_conv1 (Conv2D)        (None, None, None, 512)   2359808   \n",
      "_________________________________________________________________\n",
      "block5_conv2 (Conv2D)        (None, None, None, 512)   2359808   \n",
      "_________________________________________________________________\n",
      "block5_conv3 (Conv2D)        (None, None, None, 512)   2359808   \n",
      "_________________________________________________________________\n",
      "block5_pool (MaxPooling2D)   (None, None, None, 512)   0         \n",
      "=================================================================\n",
      "Total params: 14,714,688\n",
      "Trainable params: 0\n",
      "Non-trainable params: 14,714,688\n",
      "_________________________________________________________________\n"
     ]
    }
   ],
   "source": [
    "model_vgg16_conv = VGG16(weights='imagenet', include_top=False)\n",
    "for i in range(len(model_vgg16_conv.layers)):\n",
    "    model_vgg16_conv.layers[i].trainable = False\n",
    "model_vgg16_conv.summary()"
   ]
  },
  {
   "cell_type": "code",
   "execution_count": 140,
   "metadata": {},
   "outputs": [
    {
     "name": "stdout",
     "output_type": "stream",
     "text": [
      "_________________________________________________________________\n",
      "Layer (type)                 Output Shape              Param #   \n",
      "=================================================================\n",
      "image_input (InputLayer)     (None, 224, 224, 3)       0         \n",
      "_________________________________________________________________\n",
      "vgg16 (Model)                multiple                  14714688  \n",
      "_________________________________________________________________\n",
      "flatten (Flatten)            (None, 25088)             0         \n",
      "_________________________________________________________________\n",
      "fc (Dense)                   (None, 30)                752670    \n",
      "_________________________________________________________________\n",
      "predictions (Dense)          (None, 1)                 31        \n",
      "=================================================================\n",
      "Total params: 15,467,389\n",
      "Trainable params: 752,701\n",
      "Non-trainable params: 14,714,688\n",
      "_________________________________________________________________\n"
     ]
    },
    {
     "name": "stderr",
     "output_type": "stream",
     "text": [
      "/usr/local/lib/python3.5/site-packages/ipykernel_launcher.py:8: UserWarning: Update your `Model` call to the Keras 2 API: `Model(outputs=Tensor(\"pr..., inputs=Tensor(\"im...)`\n",
      "  \n"
     ]
    }
   ],
   "source": [
    "input = Input(shape=(224,224,3),name = 'image_input')\n",
    "output_vgg16_conv = model_vgg16_conv(input)\n",
    "\n",
    "#Add the fully-connected layers \n",
    "x = Flatten(name='flatten')(output_vgg16_conv)\n",
    "x = Dense(30, activation='relu', name='fc')(x)\n",
    "x = Dense(1, activation='sigmoid', name='predictions')(x)\n",
    "model = Model(input=input, output=x)\n",
    "\n",
    "#In the summary, weights and layers from VGG part will be hidden, but they will be fit during the training\n",
    "model.summary()\n",
    "model.compile(optimizer='adam', loss='mean_squared_error')"
   ]
  },
  {
   "cell_type": "code",
   "execution_count": 141,
   "metadata": {},
   "outputs": [
    {
     "name": "stdout",
     "output_type": "stream",
     "text": [
      "Epoch 1/100\n",
      "538/538 [==============================] - 9s - loss: 0.2800     \n",
      "Epoch 2/100\n",
      "538/538 [==============================] - 8s - loss: 0.3259     \n",
      "Epoch 3/100\n",
      "538/538 [==============================] - 8s - loss: 0.2722     \n",
      "Epoch 4/100\n",
      "538/538 [==============================] - 8s - loss: 0.2553     \n",
      "Epoch 5/100\n",
      "538/538 [==============================] - 8s - loss: 0.2458     \n",
      "Epoch 6/100\n",
      "538/538 [==============================] - 8s - loss: 0.2385     \n",
      "Epoch 7/100\n",
      "538/538 [==============================] - 8s - loss: 0.2236     \n",
      "Epoch 8/100\n",
      "538/538 [==============================] - 8s - loss: 0.1980     \n",
      "Epoch 9/100\n",
      "538/538 [==============================] - 8s - loss: 0.1881     \n",
      "Epoch 10/100\n",
      "538/538 [==============================] - 8s - loss: 0.1865     \n",
      "Epoch 11/100\n",
      "538/538 [==============================] - 8s - loss: 0.1699     \n",
      "Epoch 12/100\n",
      "538/538 [==============================] - 8s - loss: 0.1662     \n",
      "Epoch 13/100\n",
      "538/538 [==============================] - 8s - loss: 0.1744     \n",
      "Epoch 14/100\n",
      "538/538 [==============================] - 8s - loss: 0.1652     \n",
      "Epoch 15/100\n",
      "538/538 [==============================] - 8s - loss: 0.1710     \n",
      "Epoch 16/100\n",
      "538/538 [==============================] - 8s - loss: 0.1452     \n",
      "Epoch 17/100\n",
      "538/538 [==============================] - 8s - loss: 0.1384     \n",
      "Epoch 18/100\n",
      "538/538 [==============================] - 8s - loss: 0.1322     \n",
      "Epoch 19/100\n",
      "538/538 [==============================] - 8s - loss: 0.1193     \n",
      "Epoch 20/100\n",
      "538/538 [==============================] - 8s - loss: 0.1384     \n",
      "Epoch 21/100\n",
      "538/538 [==============================] - 8s - loss: 0.1325     \n",
      "Epoch 22/100\n",
      "538/538 [==============================] - 8s - loss: 0.1160     \n",
      "Epoch 23/100\n",
      "538/538 [==============================] - 8s - loss: 0.1031     \n",
      "Epoch 24/100\n",
      "538/538 [==============================] - 8s - loss: 0.1071     \n",
      "Epoch 25/100\n",
      "538/538 [==============================] - 8s - loss: 0.0933     \n",
      "Epoch 26/100\n",
      "538/538 [==============================] - 8s - loss: 0.0863     \n",
      "Epoch 27/100\n",
      "538/538 [==============================] - 8s - loss: 0.0820     \n",
      "Epoch 28/100\n",
      "538/538 [==============================] - 8s - loss: 0.0756     \n",
      "Epoch 29/100\n",
      "538/538 [==============================] - 8s - loss: 0.0728     \n",
      "Epoch 30/100\n",
      "538/538 [==============================] - 8s - loss: 0.0621     \n",
      "Epoch 31/100\n",
      "538/538 [==============================] - 8s - loss: 0.0608     \n",
      "Epoch 32/100\n",
      "538/538 [==============================] - 8s - loss: 0.0601     \n",
      "Epoch 33/100\n",
      "538/538 [==============================] - 8s - loss: 0.0569     \n",
      "Epoch 34/100\n",
      "538/538 [==============================] - 8s - loss: 0.0558     \n",
      "Epoch 35/100\n",
      "538/538 [==============================] - 8s - loss: 0.0519     \n",
      "Epoch 36/100\n",
      "538/538 [==============================] - 8s - loss: 0.0690     \n",
      "Epoch 37/100\n",
      "538/538 [==============================] - 8s - loss: 0.0624     \n",
      "Epoch 38/100\n",
      "538/538 [==============================] - 8s - loss: 0.0586     \n",
      "Epoch 39/100\n",
      "538/538 [==============================] - 8s - loss: 0.0584     \n",
      "Epoch 40/100\n",
      "538/538 [==============================] - 8s - loss: 0.0535     \n",
      "Epoch 41/100\n",
      "538/538 [==============================] - 8s - loss: 0.0573     \n",
      "Epoch 42/100\n",
      "538/538 [==============================] - 8s - loss: 0.0699     \n",
      "Epoch 43/100\n",
      "538/538 [==============================] - 8s - loss: 0.0677     \n",
      "Epoch 44/100\n",
      "538/538 [==============================] - 8s - loss: 0.0594     \n",
      "Epoch 45/100\n",
      "538/538 [==============================] - 8s - loss: 0.0495     \n",
      "Epoch 46/100\n",
      "538/538 [==============================] - 8s - loss: 0.0511     \n",
      "Epoch 47/100\n",
      "538/538 [==============================] - 8s - loss: 0.0440     \n",
      "Epoch 48/100\n",
      "538/538 [==============================] - 8s - loss: 0.0383     \n",
      "Epoch 49/100\n",
      "538/538 [==============================] - 8s - loss: 0.0365     \n",
      "Epoch 50/100\n",
      "538/538 [==============================] - 8s - loss: 0.0363     \n",
      "Epoch 51/100\n",
      "538/538 [==============================] - 8s - loss: 0.0347     \n",
      "Epoch 52/100\n",
      "538/538 [==============================] - 8s - loss: 0.0324     \n",
      "Epoch 53/100\n",
      "538/538 [==============================] - 8s - loss: 0.0332     \n",
      "Epoch 54/100\n",
      "538/538 [==============================] - 8s - loss: 0.0288     \n",
      "Epoch 55/100\n",
      "538/538 [==============================] - 8s - loss: 0.0228     \n",
      "Epoch 56/100\n",
      "538/538 [==============================] - 8s - loss: 0.0196     \n",
      "Epoch 57/100\n",
      "538/538 [==============================] - 8s - loss: 0.0191     \n",
      "Epoch 58/100\n",
      "538/538 [==============================] - 8s - loss: 0.0173     \n",
      "Epoch 59/100\n",
      "538/538 [==============================] - 8s - loss: 0.0169     \n",
      "Epoch 60/100\n",
      "538/538 [==============================] - 8s - loss: 0.0162     \n",
      "Epoch 61/100\n",
      "538/538 [==============================] - 8s - loss: 0.0139     \n",
      "Epoch 62/100\n",
      "538/538 [==============================] - 8s - loss: 0.0138     \n",
      "Epoch 63/100\n",
      "538/538 [==============================] - 8s - loss: 0.0121     \n",
      "Epoch 64/100\n",
      "538/538 [==============================] - 8s - loss: 0.0125     \n",
      "Epoch 65/100\n",
      "538/538 [==============================] - 8s - loss: 0.0126     \n",
      "Epoch 66/100\n",
      "538/538 [==============================] - 8s - loss: 0.0122     \n",
      "Epoch 67/100\n",
      "538/538 [==============================] - 8s - loss: 0.0104     \n",
      "Epoch 68/100\n",
      "538/538 [==============================] - 8s - loss: 0.0112     \n",
      "Epoch 69/100\n",
      "538/538 [==============================] - 8s - loss: 0.0098     \n",
      "Epoch 70/100\n",
      "538/538 [==============================] - 8s - loss: 0.0090     \n",
      "Epoch 71/100\n",
      "538/538 [==============================] - 8s - loss: 0.0093     \n",
      "Epoch 72/100\n",
      "538/538 [==============================] - 8s - loss: 0.0086     \n",
      "Epoch 73/100\n",
      "538/538 [==============================] - 8s - loss: 0.0087     \n",
      "Epoch 74/100\n",
      "538/538 [==============================] - 8s - loss: 0.0088     \n",
      "Epoch 75/100\n",
      "538/538 [==============================] - 8s - loss: 0.0083     \n",
      "Epoch 76/100\n",
      "538/538 [==============================] - 8s - loss: 0.0076     \n",
      "Epoch 77/100\n",
      "538/538 [==============================] - 8s - loss: 0.0073     \n",
      "Epoch 78/100\n",
      "538/538 [==============================] - 8s - loss: 0.0070     \n",
      "Epoch 79/100\n",
      "538/538 [==============================] - 8s - loss: 0.0069     \n",
      "Epoch 80/100\n",
      "538/538 [==============================] - 8s - loss: 0.0070     \n",
      "Epoch 81/100\n",
      "538/538 [==============================] - 8s - loss: 0.0073     \n",
      "Epoch 82/100\n",
      "538/538 [==============================] - 8s - loss: 0.0068     \n",
      "Epoch 83/100\n",
      "538/538 [==============================] - 8s - loss: 0.0068     \n",
      "Epoch 84/100\n",
      "538/538 [==============================] - 8s - loss: 0.0064     \n",
      "Epoch 85/100\n",
      "538/538 [==============================] - 8s - loss: 0.0062     \n",
      "Epoch 86/100\n",
      "538/538 [==============================] - 8s - loss: 0.0061     \n",
      "Epoch 87/100\n",
      "538/538 [==============================] - 8s - loss: 0.0060     \n",
      "Epoch 88/100\n",
      "538/538 [==============================] - 8s - loss: 0.0061     \n",
      "Epoch 89/100\n",
      "538/538 [==============================] - 8s - loss: 0.0061     \n",
      "Epoch 90/100\n",
      "538/538 [==============================] - 8s - loss: 0.0061     \n",
      "Epoch 91/100\n",
      "538/538 [==============================] - 8s - loss: 0.0063     \n",
      "Epoch 92/100\n",
      "538/538 [==============================] - 8s - loss: 0.0064     \n",
      "Epoch 93/100\n",
      "538/538 [==============================] - 8s - loss: 0.0066     \n",
      "Epoch 94/100\n",
      "538/538 [==============================] - 8s - loss: 0.0073     \n",
      "Epoch 95/100\n",
      "538/538 [==============================] - 8s - loss: 0.0072     \n",
      "Epoch 96/100\n",
      "538/538 [==============================] - 8s - loss: 0.0077     \n",
      "Epoch 97/100\n",
      "538/538 [==============================] - 8s - loss: 0.0078     \n",
      "Epoch 98/100\n",
      "538/538 [==============================] - 8s - loss: 0.0070     \n",
      "Epoch 99/100\n",
      "538/538 [==============================] - 8s - loss: 0.0068     \n",
      "Epoch 100/100\n",
      "538/538 [==============================] - 8s - loss: 0.0069     \n"
     ]
    },
    {
     "data": {
      "text/plain": [
       "<keras.callbacks.History at 0x7f3e510f6c18>"
      ]
     },
     "execution_count": 141,
     "metadata": {},
     "output_type": "execute_result"
    }
   ],
   "source": [
    "model.fit(speech_X_train, speech_y_train, epochs=100)"
   ]
  },
  {
   "cell_type": "code",
   "execution_count": 142,
   "metadata": {
    "collapsed": true
   },
   "outputs": [],
   "source": [
    "model.save('speech-mos-v4.h5')"
   ]
  },
  {
   "cell_type": "code",
   "execution_count": 143,
   "metadata": {
    "collapsed": true
   },
   "outputs": [],
   "source": [
    "speech_y_pred = model.predict(speech_X_test)\n",
    "speech_y_true = speech_y_test"
   ]
  },
  {
   "cell_type": "code",
   "execution_count": 144,
   "metadata": {},
   "outputs": [
    {
     "data": {
      "text/plain": [
       "array([[  9.57775950e-01],\n",
       "       [  2.26013064e-02],\n",
       "       [  8.32962990e-01],\n",
       "       [  3.80794704e-01],\n",
       "       [  2.10780099e-01],\n",
       "       [  9.74032998e-01],\n",
       "       [  4.96643096e-01],\n",
       "       [  4.91056383e-01],\n",
       "       [  3.70472193e-01],\n",
       "       [  4.91056383e-01],\n",
       "       [  3.38959664e-01],\n",
       "       [  5.16592443e-01],\n",
       "       [  8.71682823e-01],\n",
       "       [  7.54937172e-01],\n",
       "       [  7.37438798e-01],\n",
       "       [  5.23925662e-01],\n",
       "       [  2.79256493e-01],\n",
       "       [  8.74861717e-01],\n",
       "       [  9.99590218e-01],\n",
       "       [  1.47885425e-04],\n",
       "       [  9.56632376e-01],\n",
       "       [  8.07134341e-03],\n",
       "       [  1.69291367e-30],\n",
       "       [  9.93485272e-01],\n",
       "       [  5.66978753e-01],\n",
       "       [  4.91056383e-01],\n",
       "       [  2.66681481e-02],\n",
       "       [  6.50732636e-01],\n",
       "       [  6.85322881e-01],\n",
       "       [  7.98972771e-02],\n",
       "       [  9.07681584e-01],\n",
       "       [  1.58948615e-01],\n",
       "       [  7.84818351e-01],\n",
       "       [  9.99101758e-07],\n",
       "       [  6.25211358e-01],\n",
       "       [  8.75527024e-01],\n",
       "       [  6.08164907e-01],\n",
       "       [  4.91056383e-01],\n",
       "       [  8.40170681e-01],\n",
       "       [  4.34047431e-01],\n",
       "       [  4.91056383e-01],\n",
       "       [  4.15718198e-01],\n",
       "       [  4.46442872e-01],\n",
       "       [  4.91056383e-01],\n",
       "       [  9.72499788e-01],\n",
       "       [  2.04074144e-01],\n",
       "       [  4.45019096e-01],\n",
       "       [  7.91079581e-01],\n",
       "       [  5.10165334e-01],\n",
       "       [  8.00190330e-01],\n",
       "       [  7.48286009e-01],\n",
       "       [  3.05202175e-02],\n",
       "       [  2.43587837e-01],\n",
       "       [  2.88588051e-02],\n",
       "       [  5.48433900e-01],\n",
       "       [  3.38556647e-01],\n",
       "       [  9.80933964e-01],\n",
       "       [  3.99729609e-01],\n",
       "       [  3.61528546e-01],\n",
       "       [  5.77784538e-01],\n",
       "       [  7.14467406e-01],\n",
       "       [  9.02939141e-01],\n",
       "       [  8.71292472e-01],\n",
       "       [  6.08304262e-01],\n",
       "       [  9.24153030e-01],\n",
       "       [  9.99961376e-01],\n",
       "       [  4.91056383e-01],\n",
       "       [  9.99160886e-01],\n",
       "       [  8.27247918e-01],\n",
       "       [  9.74078476e-01],\n",
       "       [  2.93403387e-01],\n",
       "       [  7.20157564e-01],\n",
       "       [  4.91056383e-01],\n",
       "       [  8.30219269e-01],\n",
       "       [  8.73156726e-01],\n",
       "       [  4.91056383e-01],\n",
       "       [  2.63453305e-01],\n",
       "       [  2.10149899e-01],\n",
       "       [  6.58109784e-01],\n",
       "       [  9.47558045e-01],\n",
       "       [  2.49268413e-01],\n",
       "       [  5.94031394e-01],\n",
       "       [  9.07428741e-01],\n",
       "       [  8.97926807e-01],\n",
       "       [  9.99945879e-01],\n",
       "       [  4.45474535e-01],\n",
       "       [  6.35471702e-01],\n",
       "       [  8.18968534e-01],\n",
       "       [  6.27236187e-01],\n",
       "       [  7.67748132e-02],\n",
       "       [  1.57688126e-01],\n",
       "       [  5.52597225e-01],\n",
       "       [  1.94554597e-01],\n",
       "       [  1.59366354e-01],\n",
       "       [  5.34469187e-01],\n",
       "       [  7.99908519e-01],\n",
       "       [  4.64961320e-01],\n",
       "       [  9.71778631e-01],\n",
       "       [  8.31261218e-01],\n",
       "       [  7.85199821e-01],\n",
       "       [  1.15431696e-01],\n",
       "       [  9.41868842e-01],\n",
       "       [  1.61139324e-01],\n",
       "       [  7.64411449e-01],\n",
       "       [  4.91056383e-01],\n",
       "       [  8.66705239e-01],\n",
       "       [  6.17645860e-01],\n",
       "       [  4.91056383e-01],\n",
       "       [  1.01899467e-01],\n",
       "       [  7.56070495e-01],\n",
       "       [  7.78076530e-01],\n",
       "       [  4.91056383e-01],\n",
       "       [  9.32559818e-02],\n",
       "       [  5.15629470e-01],\n",
       "       [  4.91056383e-01],\n",
       "       [  5.90595663e-01],\n",
       "       [  6.13084316e-01],\n",
       "       [  3.85131150e-01],\n",
       "       [  8.43521059e-01],\n",
       "       [  7.34111547e-01],\n",
       "       [  9.97917354e-01],\n",
       "       [  9.33430672e-01],\n",
       "       [  7.70289481e-01],\n",
       "       [  8.07728350e-01],\n",
       "       [  5.26015796e-02],\n",
       "       [  9.97078061e-01],\n",
       "       [  7.15825796e-01],\n",
       "       [  5.70166230e-01],\n",
       "       [  2.08023062e-04],\n",
       "       [  9.22264278e-01],\n",
       "       [  4.03918862e-01],\n",
       "       [  9.57634568e-01],\n",
       "       [  4.61687148e-01],\n",
       "       [  4.17009741e-01],\n",
       "       [  4.91056383e-01],\n",
       "       [  9.79813874e-01],\n",
       "       [  9.81466055e-01],\n",
       "       [  7.54053593e-01],\n",
       "       [  4.78330970e-01],\n",
       "       [  4.58987504e-01],\n",
       "       [  8.28832507e-01],\n",
       "       [  8.59061003e-01],\n",
       "       [  9.33613002e-01],\n",
       "       [  9.92237270e-01],\n",
       "       [  9.58259344e-01],\n",
       "       [  8.06466818e-01],\n",
       "       [  5.62859893e-01],\n",
       "       [  8.04485142e-01],\n",
       "       [  9.13394213e-01],\n",
       "       [  9.78897214e-01],\n",
       "       [  7.16153204e-01],\n",
       "       [  1.14301212e-01],\n",
       "       [  9.94145870e-01],\n",
       "       [  5.84511161e-01],\n",
       "       [  1.14888467e-01],\n",
       "       [  3.90443563e-01],\n",
       "       [  4.30617750e-01],\n",
       "       [  7.34472135e-03],\n",
       "       [  1.74547970e-01],\n",
       "       [  8.14714551e-01],\n",
       "       [  1.13839423e-02],\n",
       "       [  7.72765279e-01],\n",
       "       [  4.91056383e-01],\n",
       "       [  9.69562948e-01],\n",
       "       [  9.90330458e-01],\n",
       "       [  3.86624277e-01],\n",
       "       [  7.71260738e-01],\n",
       "       [  7.36818612e-01],\n",
       "       [  9.83426690e-01],\n",
       "       [  6.96034312e-01],\n",
       "       [  5.39211750e-01],\n",
       "       [  7.27900743e-01],\n",
       "       [  4.91056383e-01],\n",
       "       [  7.19457150e-01],\n",
       "       [  1.52705086e-03],\n",
       "       [  1.00000000e+00],\n",
       "       [  2.37112075e-01],\n",
       "       [  9.96386647e-01],\n",
       "       [  9.20492947e-01],\n",
       "       [  4.91056383e-01]], dtype=float32)"
      ]
     },
     "execution_count": 144,
     "metadata": {},
     "output_type": "execute_result"
    }
   ],
   "source": [
    "speech_y_pred"
   ]
  },
  {
   "cell_type": "code",
   "execution_count": 145,
   "metadata": {
    "collapsed": true
   },
   "outputs": [],
   "source": [
    "errors = speech_y_pred - speech_y_true"
   ]
  },
  {
   "cell_type": "code",
   "execution_count": 146,
   "metadata": {
    "collapsed": true
   },
   "outputs": [],
   "source": [
    "mse = np.mean(errors**2)"
   ]
  },
  {
   "cell_type": "code",
   "execution_count": 147,
   "metadata": {},
   "outputs": [
    {
     "data": {
      "text/plain": [
       "0.083196006803933575"
      ]
     },
     "execution_count": 147,
     "metadata": {},
     "output_type": "execute_result"
    }
   ],
   "source": [
    "mse"
   ]
  },
  {
   "cell_type": "code",
   "execution_count": 157,
   "metadata": {
    "collapsed": true
   },
   "outputs": [],
   "source": [
    "speech_y_true_mos = np.array(speech_y_true * 4 + 1, dtype=int)\n",
    "speech_y_pred_mos = np.array(speech_y_pred * 4 + 1, dtype=int)"
   ]
  },
  {
   "cell_type": "code",
   "execution_count": 158,
   "metadata": {
    "collapsed": true
   },
   "outputs": [],
   "source": [
    "errors_mos = speech_y_pred_mos - speech_y_true_mos"
   ]
  },
  {
   "cell_type": "code",
   "execution_count": 159,
   "metadata": {
    "collapsed": true
   },
   "outputs": [],
   "source": [
    "mse_mos = np.mean(errors_mos**2)"
   ]
  },
  {
   "cell_type": "code",
   "execution_count": 160,
   "metadata": {},
   "outputs": [
    {
     "data": {
      "text/plain": [
       "1.6166666666666667"
      ]
     },
     "execution_count": 160,
     "metadata": {},
     "output_type": "execute_result"
    }
   ],
   "source": [
    "mse_mos"
   ]
  },
  {
   "cell_type": "code",
   "execution_count": 161,
   "metadata": {},
   "outputs": [
    {
     "name": "stdout",
     "output_type": "stream",
     "text": [
      "[4] [3]\n",
      "[1] [1]\n",
      "[4] [5]\n",
      "[2] [3]\n",
      "[1] [3]\n",
      "[4] [3]\n",
      "[2] [5]\n",
      "[2] [4]\n",
      "[2] [2]\n",
      "[2] [4]\n",
      "[2] [3]\n",
      "[3] [1]\n",
      "[4] [5]\n",
      "[4] [5]\n",
      "[3] [5]\n",
      "[3] [3]\n",
      "[2] [1]\n",
      "[4] [2]\n",
      "[4] [5]\n",
      "[1] [1]\n",
      "[4] [5]\n",
      "[1] [2]\n",
      "[1] [1]\n",
      "[4] [5]\n",
      "[3] [2]\n",
      "[2] [3]\n",
      "[1] [1]\n",
      "[3] [5]\n",
      "[3] [3]\n",
      "[1] [2]\n",
      "[4] [4]\n",
      "[1] [2]\n",
      "[4] [2]\n",
      "[1] [1]\n",
      "[3] [4]\n",
      "[4] [3]\n",
      "[3] [4]\n",
      "[2] [3]\n",
      "[4] [4]\n",
      "[2] [3]\n",
      "[2] [3]\n",
      "[2] [3]\n",
      "[2] [4]\n",
      "[2] [3]\n",
      "[4] [2]\n",
      "[1] [5]\n",
      "[2] [3]\n",
      "[4] [3]\n",
      "[3] [4]\n",
      "[4] [5]\n",
      "[3] [4]\n",
      "[1] [1]\n",
      "[1] [3]\n",
      "[1] [1]\n",
      "[3] [4]\n",
      "[2] [3]\n",
      "[4] [4]\n",
      "[2] [2]\n",
      "[2] [3]\n",
      "[3] [4]\n",
      "[3] [4]\n",
      "[4] [4]\n",
      "[4] [5]\n",
      "[3] [2]\n",
      "[4] [4]\n",
      "[4] [5]\n",
      "[2] [3]\n",
      "[4] [4]\n",
      "[4] [5]\n",
      "[4] [5]\n",
      "[2] [1]\n",
      "[3] [5]\n",
      "[2] [2]\n",
      "[4] [4]\n",
      "[4] [4]\n",
      "[2] [5]\n",
      "[2] [2]\n",
      "[1] [2]\n",
      "[3] [5]\n",
      "[4] [4]\n",
      "[1] [1]\n",
      "[3] [4]\n",
      "[4] [2]\n",
      "[4] [4]\n",
      "[4] [4]\n",
      "[2] [3]\n",
      "[3] [5]\n",
      "[4] [2]\n",
      "[3] [2]\n",
      "[1] [2]\n",
      "[1] [1]\n",
      "[3] [3]\n",
      "[1] [3]\n",
      "[1] [1]\n",
      "[3] [3]\n",
      "[4] [4]\n",
      "[2] [2]\n",
      "[4] [3]\n",
      "[4] [4]\n",
      "[4] [3]\n",
      "[1] [5]\n",
      "[4] [5]\n",
      "[1] [3]\n",
      "[4] [4]\n",
      "[2] [3]\n",
      "[4] [4]\n",
      "[3] [3]\n",
      "[2] [4]\n",
      "[1] [2]\n",
      "[4] [3]\n",
      "[4] [2]\n",
      "[2] [3]\n",
      "[1] [2]\n",
      "[3] [4]\n",
      "[2] [5]\n",
      "[3] [5]\n",
      "[3] [2]\n",
      "[2] [3]\n",
      "[4] [3]\n",
      "[3] [5]\n",
      "[4] [5]\n",
      "[4] [4]\n",
      "[4] [3]\n",
      "[4] [5]\n",
      "[1] [1]\n",
      "[4] [4]\n",
      "[3] [2]\n",
      "[3] [5]\n",
      "[1] [1]\n",
      "[4] [5]\n",
      "[2] [3]\n",
      "[4] [5]\n",
      "[2] [2]\n",
      "[2] [3]\n",
      "[2] [2]\n",
      "[4] [4]\n",
      "[4] [1]\n",
      "[4] [4]\n",
      "[2] [2]\n",
      "[2] [4]\n",
      "[4] [5]\n",
      "[4] [4]\n",
      "[4] [3]\n",
      "[4] [3]\n",
      "[4] [4]\n",
      "[4] [4]\n",
      "[3] [3]\n",
      "[4] [4]\n",
      "[4] [5]\n",
      "[4] [4]\n",
      "[3] [1]\n",
      "[1] [3]\n",
      "[4] [4]\n",
      "[3] [4]\n",
      "[1] [3]\n",
      "[2] [3]\n",
      "[2] [2]\n",
      "[1] [2]\n",
      "[1] [3]\n",
      "[4] [3]\n",
      "[1] [3]\n",
      "[4] [4]\n",
      "[2] [5]\n",
      "[4] [4]\n",
      "[4] [5]\n",
      "[2] [3]\n",
      "[4] [5]\n",
      "[3] [4]\n",
      "[4] [5]\n",
      "[3] [4]\n",
      "[3] [5]\n",
      "[3] [1]\n",
      "[2] [2]\n",
      "[3] [4]\n",
      "[1] [3]\n",
      "[5] [4]\n",
      "[1] [2]\n",
      "[4] [5]\n",
      "[4] [5]\n",
      "[2] [1]\n"
     ]
    }
   ],
   "source": [
    "for i in range(len(speech_y_pred_mos)):\n",
    "    print(speech_y_pred_mos[i], speech_y_true_mos[i])"
   ]
  },
  {
   "cell_type": "code",
   "execution_count": 162,
   "metadata": {},
   "outputs": [
    {
     "data": {
      "text/plain": [
       "(array([-4, -3, -2, -1,  0,  1,  2,  3]),\n",
       " array([ 2,  4, 23, 65, 55, 21,  9,  1]))"
      ]
     },
     "execution_count": 162,
     "metadata": {},
     "output_type": "execute_result"
    }
   ],
   "source": [
    "np.unique(errors_mos, return_counts=True)"
   ]
  },
  {
   "cell_type": "code",
   "execution_count": 177,
   "metadata": {},
   "outputs": [
    {
     "name": "stdout",
     "output_type": "stream",
     "text": [
      "[ 1.] [ 0.20407414]\n"
     ]
    },
    {
     "data": {
      "image/png": "[encoded data removed]",
      "text/plain": [
       "<matplotlib.figure.Figure at 0x7f3e4c333a58>"
      ]
     },
     "metadata": {},
     "output_type": "display_data"
    }
   ],
   "source": [
    "print(speech_y_true[np.argmax(-errors_mos)], speech_y_pred[np.argmax(-errors_mos)])\n",
    "plt.imshow(speech_X_test[np.argmax(-errors_mos)])\n",
    "plt.show()"
   ]
  },
  {
   "cell_type": "code",
   "execution_count": 176,
   "metadata": {},
   "outputs": [
    {
     "name": "stdout",
     "output_type": "stream",
     "text": [
      "[ 0.] [ 0.98146605]\n"
     ]
    },
    {
     "data": {
      "image/png": "[encoded data removed]",
      "text/plain": [
       "<matplotlib.figure.Figure at 0x7f3e4fdc8048>"
      ]
     },
     "metadata": {},
     "output_type": "display_data"
    }
   ],
   "source": [
    "print(speech_y_true[np.argmax(errors_mos)], speech_y_pred[np.argmax(errors_mos)])\n",
    "plt.imshow(speech_X_test[np.argmax(errors_mos)])\n",
    "plt.show()"
   ]
  }
 ],
 "metadata": {
  "kernelspec": {
   "display_name": "Python 2",
   "language": "python",
   "name": "python2"
  },
  "language_info": {
   "codemirror_mode": {
    "name": "ipython",
    "version": 2
   },
   "file_extension": ".py",
   "mimetype": "text/x-python",
   "name": "python",
   "nbconvert_exporter": "python",
   "pygments_lexer": "ipython2",
   "version": "2.7.14"
  }
 },
 "nbformat": 4,
 "nbformat_minor": 2
}
